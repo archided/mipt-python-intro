{
  "cells": [
    {
      "cell_type": "code",
      "execution_count": null,
      "id": "f4411da1",
      "metadata": {
        "id": "f4411da1"
      },
      "outputs": [],
      "source": [
        "- title: Контрольная работа\n",
        "- author: Артём Дегтярёв\n",
        "- status: published\n",
        "- date: 2023-10-27\n",
        "- slug: 2023_lpr_test1\n",
        "- ipynb_url: download/2023_lpr_test1.ipynb"
      ]
    },
    {
      "cell_type": "markdown",
      "id": "44187cf1",
      "metadata": {
        "id": "44187cf1"
      },
      "source": [
        "## Юферова Антонина\n",
        "Если этого не сделать, можно получить **-2 балла** к итоговой оценке за контрольную."
      ]
    },
    {
      "cell_type": "markdown",
      "id": "3ad298ed",
      "metadata": {
        "id": "3ad298ed"
      },
      "source": [
        "## Оценивание."
      ]
    },
    {
      "cell_type": "markdown",
      "id": "44c528ff",
      "metadata": {
        "id": "44c528ff"
      },
      "source": [
        "Контрольная состоит из трех частей: основы, numpy, pandas. За них можно набрать максимум $23+12+23=58$ баллов. Это 25 задач, столько решать совсем не обязательно. На отл8 и выше требуется набрать не менее $8$ баллов за первую часть, не менее $7$ за вторую и не менее $8$ за третью. Оценка ставится по сумме баллов:\n",
        "\n",
        "- Отл10 39+ с условием выше\n",
        "\n",
        "- Отл9 31-38 с условием выше\n",
        "\n",
        "- Отл8 23-30 с условием выше\n",
        "\n",
        "- Хор7 20-22\n",
        "\n",
        "- Хор6 17-19\n",
        "\n",
        "- Хор5 14-16\n",
        "\n",
        "- Уд4 11-13\n",
        "\n",
        "- Уд3 8-10\n",
        "\n",
        "- Неуд2 5-7\n",
        "\n",
        "- Неуд1 0-4\n",
        "\n",
        "Решениями задач во всех радзелах должны быть коды, работающие корректно на любых адекватных задаче входных данных. В задачах третьей части (pandas) в ячейках должен быть написан код, результатом работы которого является число, серия или датафрейм.\n",
        "\n",
        "За списывание *решений задач* итоговая оценка может быть снижена на любое количество баллов на усмотрение проверяющих. Можно гуглить (с того же устройства, с которого решаете и отправляете контрольную) функции, методы и документацию, а также использовать свои jupyter ноутбуки."
      ]
    },
    {
      "cell_type": "markdown",
      "id": "c19b86b9",
      "metadata": {
        "id": "c19b86b9"
      },
      "source": [
        "# Основы, синтаксис"
      ]
    },
    {
      "cell_type": "markdown",
      "id": "ab9aea61",
      "metadata": {
        "id": "ab9aea61"
      },
      "source": [
        "**Задача 1. (1 балл)** Считайте с клавиатуры целое число $n >= 100$. Найдите число сотен (третью справа цифру в записи числа).\n",
        "Пример:\n",
        "\n",
        "*Входные данные:*\n",
        "\n",
        "`12345`\n",
        "\n",
        "*Выходные данные:*\n",
        "\n",
        "`3`"
      ]
    },
    {
      "cell_type": "code",
      "execution_count": 4,
      "id": "0ccfcf63",
      "metadata": {
        "colab": {
          "base_uri": "https://localhost:8080/"
        },
        "id": "0ccfcf63",
        "outputId": "28753918-de90-4fed-bcfa-ee47f26d807d"
      },
      "outputs": [
        {
          "name": "stdout",
          "output_type": "stream",
          "text": [
            "3\n"
          ]
        }
      ],
      "source": [
        "n = int(input())\n",
        "print(n // 100 % 10)"
      ]
    },
    {
      "cell_type": "markdown",
      "id": "6e1c5d6a",
      "metadata": {
        "id": "6e1c5d6a"
      },
      "source": [
        "**Задача 2. (1 балл)** Напишите **функцию**, которая возвращает `True`, если введенная строка читается одинаково слева направо и справа налево, `False` в противном случае. Учитываются только буквы, регистр не различается.\n",
        "Примеры:\n",
        "\n",
        "`ab cd.CBa` -> `True`\n",
        "\n",
        "`abcd cb` -> `False`"
      ]
    },
    {
      "cell_type": "code",
      "execution_count": null,
      "id": "e16ea6b8",
      "metadata": {
        "id": "e16ea6b8"
      },
      "outputs": [],
      "source": []
    },
    {
      "cell_type": "markdown",
      "id": "b0f7107b",
      "metadata": {
        "id": "b0f7107b"
      },
      "source": [
        "**Задача 3. (1 балл)** С клавиатуры вводится строки `a` и `b`. Найдите число вхождений данной подстроки `a` в строку `b`. Пример:\n",
        "\n",
        "*Входные данные:*\n",
        "\n",
        "`abc`\n",
        "\n",
        "`abcdefbcabcbabc`\n",
        "\n",
        "*Выходные данные:*\n",
        "\n",
        "`3`"
      ]
    },
    {
      "cell_type": "code",
      "execution_count": 5,
      "id": "02605308",
      "metadata": {
        "colab": {
          "base_uri": "https://localhost:8080/"
        },
        "id": "02605308",
        "outputId": "53961ace-609d-4c44-93b1-4ed81de93a4d"
      },
      "outputs": [
        {
          "name": "stdout",
          "output_type": "stream",
          "text": [
            "4\n"
          ]
        }
      ],
      "source": [
        "a, b = input(), input()\n",
        "print(b.count(a))"
      ]
    },
    {
      "cell_type": "markdown",
      "id": "6d3b6e2c",
      "metadata": {
        "id": "6d3b6e2c"
      },
      "source": [
        "**Задача 4. (1 балл)** С клавиатуры вводится строка. Удалите из нее все цифры и выведите результат на экран. Пример:\n",
        "\n",
        "*Входные данные:*\n",
        "\n",
        "`abc1de23fb5cabcbabc678`\n",
        "\n",
        "*Выходные данные:*\n",
        "\n",
        "`abcdefbcabcbabc`"
      ]
    },
    {
      "cell_type": "code",
      "execution_count": null,
      "id": "12263e00",
      "metadata": {
        "colab": {
          "base_uri": "https://localhost:8080/"
        },
        "id": "12263e00",
        "outputId": "fb4e0f22-e5f5-4a2b-d0d9-d004111a7052"
      },
      "outputs": [
        {
          "name": "stdout",
          "output_type": "stream",
          "text": [
            "hjkh2h3h3hооцдоцр43в\n",
            "hjkhhhhооцдоцрв\n"
          ]
        }
      ],
      "source": [
        "l, r = ord('0'), ord('9')\n",
        "s = input()\n",
        "ans = ''\n",
        "for i in s:\n",
        "    if (ord(i) < l) or (ord(i) > r): ans += i\n",
        "\n",
        "print(ans)"
      ]
    },
    {
      "cell_type": "markdown",
      "id": "acd16b38",
      "metadata": {
        "id": "acd16b38"
      },
      "source": [
        "**Задача 5. (1 балл)** С клавиатуры вводится список чисел. Возведите все его элементы в квадрат и выведите результат на экран. Пример:\n",
        "\n",
        "*Входные данные:*\n",
        "\n",
        "`1 -2 5 -10 3`\n",
        "\n",
        "*Выходные данные:*\n",
        "\n",
        "`1 4 25 100 9`"
      ]
    },
    {
      "cell_type": "code",
      "execution_count": null,
      "id": "fee5a9ab",
      "metadata": {
        "colab": {
          "base_uri": "https://localhost:8080/"
        },
        "id": "fee5a9ab",
        "outputId": "34125065-2deb-48c4-f379-762b904043a5"
      },
      "outputs": [
        {
          "name": "stdout",
          "output_type": "stream",
          "text": [
            "1 -2 5 -10 3\n",
            "[1, 4, 25, 100, 9]\n"
          ]
        }
      ],
      "source": [
        "a = [int(x)**2 for x in input().split()]\n",
        "print(a)"
      ]
    },
    {
      "cell_type": "markdown",
      "id": "db7d8918",
      "metadata": {
        "id": "db7d8918"
      },
      "source": [
        "**Задача 6. (2 балла)** С клавиатуры вводится список чисел **через запятую с пробелом**. Возведите все его элементы в куб **с помощью map** и выведите результат на экран. Пример:\n",
        "\n",
        "*Входные данные:*\n",
        "\n",
        "`1, -2, 5, -10, 3`\n",
        "\n",
        "*Выходные данные:*\n",
        "\n",
        "`1 -8 625 -1000 27`"
      ]
    },
    {
      "cell_type": "code",
      "execution_count": null,
      "id": "76db5ebb",
      "metadata": {
        "colab": {
          "base_uri": "https://localhost:8080/"
        },
        "id": "76db5ebb",
        "outputId": "00bc6442-6cb3-46fb-bacb-1792d6495eb8"
      },
      "outputs": [
        {
          "name": "stdout",
          "output_type": "stream",
          "text": [
            "1, -2, 5, -10, 3\n",
            "1 -8 125 -1000 27\n"
          ]
        }
      ],
      "source": [
        "print(*list(map(lambda x: x**3, map(int, input().split(', ')))))"
      ]
    },
    {
      "cell_type": "markdown",
      "id": "399f2829",
      "metadata": {
        "id": "399f2829"
      },
      "source": [
        "**Задача 7. (2 балла)** Создайте с помощью генератора списков (`list comprehension`) список из чисел от -10 до 10. С помощью функции `filter` удалите из него положительные числа, кратные 3. Затем с помощью функции `map` возведите оставшиеся числа в квадрат. Выведите результат на экран."
      ]
    },
    {
      "cell_type": "code",
      "execution_count": null,
      "id": "bb54327c",
      "metadata": {
        "colab": {
          "base_uri": "https://localhost:8080/"
        },
        "id": "bb54327c",
        "outputId": "0107e04f-cd9a-4435-9df3-de7a2c8977fa"
      },
      "outputs": [
        {
          "name": "stdout",
          "output_type": "stream",
          "text": [
            "100 81 64 49 36 25 16 9 4 1 0 1 4 16 25 49 64 100\n"
          ]
        }
      ],
      "source": [
        "a = [x for x in range(-10, 11)]\n",
        "a = list(filter(lambda x: x <= 0 or x % 3 != 0, a))\n",
        "a = list(map(lambda x: x**2, a))\n",
        "print(*a)"
      ]
    },
    {
      "cell_type": "markdown",
      "id": "891ecf2a",
      "metadata": {
        "id": "891ecf2a"
      },
      "source": [
        "**Задача 8. (2 балла)** Считайте в переменную строку из файла [`6.txt`](http://cs.mipt.ru/lpr2022/extra/task1/6.txt). Выведите символы этой строки в обратном порядке по одному, каждый с новой строки.\n",
        "Пример:\n",
        "\n",
        "*Входные данные:*\n",
        "\n",
        "`abc`\n",
        "\n",
        "*Выходные данные:*\n",
        "\n",
        "`c`\n",
        "\n",
        "`b`\n",
        "\n",
        "`a`"
      ]
    },
    {
      "cell_type": "code",
      "execution_count": null,
      "id": "f52f7542",
      "metadata": {
        "id": "f52f7542"
      },
      "outputs": [],
      "source": []
    },
    {
      "cell_type": "markdown",
      "id": "c02239cc",
      "metadata": {
        "id": "c02239cc"
      },
      "source": [
        "**Задача 9. (3 балла + 1 балл)** Вводится натуральное число n. Выведите все пифагоровы тройки с целочисленными катетами, в которых длина гипотенузы не превосходит n. Формат вывода: в столбец, в каждой строке по 3 числа, первые 2 из которых - катеты. Выводить можно в любом порядке. Для получения четвертого балла решение должно быть в одну строку без `;`.\n",
        "\n",
        "Пример:\n",
        "\n",
        "*Входные данные:*\n",
        "\n",
        "`13`\n",
        "\n",
        "*Выходные данные:*\n",
        "\n",
        "`3 4 5`\n",
        "\n",
        "`4 3 5`\n",
        "\n",
        "`6 8 10`\n",
        "\n",
        "`8 6 10`\n",
        "\n",
        "`5 12 13`\n",
        "\n",
        "`12 5 13`"
      ]
    },
    {
      "cell_type": "code",
      "execution_count": null,
      "id": "55cb6a42",
      "metadata": {
        "id": "55cb6a42"
      },
      "outputs": [],
      "source": []
    },
    {
      "cell_type": "markdown",
      "id": "d8c84f49",
      "metadata": {
        "id": "d8c84f49"
      },
      "source": [
        "**Задача 10. (4 балла)**\n",
        "\n",
        "\"В условиях предыдущей задачи\" - это про формат данных: фамилия, имя, школа, балл"
      ]
    },
    {
      "cell_type": "markdown",
      "id": "7f77730e",
      "metadata": {
        "id": "7f77730e"
      },
      "source": [
        "![image-2.png](attachment:image-2.png)"
      ]
    },
    {
      "cell_type": "code",
      "execution_count": null,
      "id": "416235e3",
      "metadata": {
        "id": "416235e3"
      },
      "outputs": [],
      "source": []
    },
    {
      "cell_type": "markdown",
      "id": "58d376e5",
      "metadata": {
        "id": "58d376e5"
      },
      "source": [
        "**Задача 11. (4 балла)**\n",
        "\n",
        "\"В условиях предыдущей задачи\" - это про формат данных: фамилия, имя, класс, балл. Конкурс общий по всем классам."
      ]
    },
    {
      "cell_type": "markdown",
      "id": "807a6844",
      "metadata": {
        "id": "807a6844"
      },
      "source": [
        "![image-2.png](attachment:image-2.png)"
      ]
    },
    {
      "cell_type": "code",
      "execution_count": null,
      "id": "5bf3ca3a",
      "metadata": {
        "id": "5bf3ca3a"
      },
      "outputs": [],
      "source": []
    },
    {
      "cell_type": "markdown",
      "id": "f0e87c28",
      "metadata": {
        "id": "f0e87c28"
      },
      "source": [
        "# NumPy, визуализация\n",
        "\n",
        "Использование циклов `for` и `while` запрещено в этом разделе. При его использовании можно получить не более половины балла за задачу."
      ]
    },
    {
      "cell_type": "markdown",
      "id": "85c242db",
      "metadata": {
        "id": "85c242db"
      },
      "source": [
        "**Задача 1. (2 балла)** Найдите значение выражения $(a*b)(2a + 3b)$, если $a = (2 \\;\\; 1)$, $b = (1 \\;\\; 3)$, $(a*b)$ - скалярное произведение векторов."
      ]
    },
    {
      "cell_type": "code",
      "execution_count": 6,
      "id": "369051c7",
      "metadata": {
        "colab": {
          "base_uri": "https://localhost:8080/"
        },
        "id": "369051c7",
        "outputId": "74d9e263-d84f-4398-eaf7-5d0c93279bd8"
      },
      "outputs": [
        {
          "data": {
            "text/plain": [
              "array([35, 55])"
            ]
          },
          "execution_count": 6,
          "metadata": {},
          "output_type": "execute_result"
        }
      ],
      "source": [
        "import numpy as np\n",
        "\n",
        "a = np.array([2, 1])\n",
        "b = np.array([1, 3])\n",
        "\n",
        "np.dot(a, b) * (a * 2 + b * 3)"
      ]
    },
    {
      "cell_type": "markdown",
      "id": "2dd2a097",
      "metadata": {
        "id": "2dd2a097"
      },
      "source": [
        "**Задача 2. (2 балла)** Найдите произведение данных матриц, транспонируя их так, чтобы полученная матрица имела размер $2*2$."
      ]
    },
    {
      "cell_type": "code",
      "execution_count": 7,
      "id": "04e91cb5",
      "metadata": {
        "id": "04e91cb5"
      },
      "outputs": [],
      "source": [
        "a = np.array([[1.0, 2.0],\n",
        "              [3.0, 4.0],\n",
        "              [5.0, 6.0]])\n",
        "b = np.array([[1.0, 0.0],\n",
        "              [0.0, 1.0],\n",
        "              [1.0, 2.0]])"
      ]
    },
    {
      "cell_type": "code",
      "execution_count": 8,
      "id": "41106ff9",
      "metadata": {
        "colab": {
          "base_uri": "https://localhost:8080/"
        },
        "id": "41106ff9",
        "outputId": "bd0bb86a-5775-4a60-a10c-8797ff670a67"
      },
      "outputs": [
        {
          "data": {
            "text/plain": [
              "array([[ 6., 13.],\n",
              "       [ 8., 16.]])"
            ]
          },
          "execution_count": 8,
          "metadata": {},
          "output_type": "execute_result"
        }
      ],
      "source": [
        "np.matmul(np.transpose(a), b)"
      ]
    },
    {
      "cell_type": "markdown",
      "id": "32eb8860",
      "metadata": {
        "id": "32eb8860"
      },
      "source": [
        "**Задача 3. (2 балла)** Найти косинус угла между векторами $a = \\Big(\\frac{\\sqrt3}{2} \\;\\; -\\frac{1}{2}\\Big)$ и $b = (0 \\;\\; 1)$."
      ]
    },
    {
      "cell_type": "code",
      "execution_count": 9,
      "id": "5535c87d",
      "metadata": {
        "colab": {
          "base_uri": "https://localhost:8080/"
        },
        "id": "5535c87d",
        "outputId": "bdf76032-7370-45b9-f437-d8a7de2aa9a9"
      },
      "outputs": [
        {
          "data": {
            "text/plain": [
              "0.5000000000000001"
            ]
          },
          "execution_count": 9,
          "metadata": {},
          "output_type": "execute_result"
        }
      ],
      "source": [
        "a = np.array([3**0.5/2, 0.5])\n",
        "b = np.array([0, 1])\n",
        "\n",
        "np.dot(a, b) / (np.linalg.norm(a) * np.linalg.norm(b))"
      ]
    },
    {
      "cell_type": "markdown",
      "id": "e55b4179",
      "metadata": {
        "id": "e55b4179"
      },
      "source": [
        "**Задача 4. (3 балла)** Решить систему уравнений\n",
        "$$\n",
        "\\left\\{\n",
        "\\begin{array}{c}\n",
        "x+y+z=0 \\\\\n",
        "4x+2y+3z=4 \\\\\n",
        "15x+3y+5z=0\n",
        "\\end{array}\n",
        "\\right.\n",
        "$$"
      ]
    },
    {
      "cell_type": "code",
      "execution_count": 10,
      "id": "0287844d",
      "metadata": {
        "colab": {
          "base_uri": "https://localhost:8080/"
        },
        "id": "0287844d",
        "outputId": "fa4477c6-5ba6-4752-8156-ee35c62da79a"
      },
      "outputs": [
        {
          "data": {
            "text/plain": [
              "array([-1., -5.,  6.])"
            ]
          },
          "execution_count": 10,
          "metadata": {},
          "output_type": "execute_result"
        }
      ],
      "source": [
        "A = np.array([[1, 1, 1],\n",
        "              [4, 2, 3],\n",
        "              [15, 3, 5]])\n",
        "B = np.array([0, 4, 0])\n",
        "\n",
        "np.matmul(np.linalg.inv(A), B)  # = [x, y, z]"
      ]
    },
    {
      "cell_type": "markdown",
      "id": "d17e93b0",
      "metadata": {
        "id": "d17e93b0"
      },
      "source": [
        "**Задача 5 (3 балла).** Построить график функции $x^3\\sin{x}$ для $x$ в интервале от -100 до 100."
      ]
    },
    {
      "cell_type": "code",
      "execution_count": 11,
      "id": "ac9bebd9",
      "metadata": {
        "colab": {
          "base_uri": "https://localhost:8080/",
          "height": 445
        },
        "id": "ac9bebd9",
        "outputId": "090e1df6-ce81-4de6-c0c6-89956e5352bc"
      },
      "outputs": [
        {
          "data": {
            "image/png": "[encoded data removed]",
            "text/plain": [
              "<Figure size 640x480 with 1 Axes>"
            ]
          },
          "metadata": {},
          "output_type": "display_data"
        }
      ],
      "source": [
        "import matplotlib.pyplot as plt\n",
        "\n",
        "def y(x):\n",
        "    return x ** 3 * np.sin(x)\n",
        "\n",
        "x = np.arange(-100, 100, 0.01)\n",
        "plt.plot(x, y(x))\n",
        "plt.grid(True)\n",
        "plt.show()"
      ]
    },
    {
      "cell_type": "markdown",
      "id": "91b666d9",
      "metadata": {
        "id": "91b666d9"
      },
      "source": [
        "# Pandas\n",
        "Для выполнения заданий **загрузите файл** [use.csv](http://cs.mipt.ru/lpr2022/extra/task1/use.csv)!\n",
        "Во всех задачах ответом должно быть либо одно число, либо датафрейм, полученное с помощью команд pandas (например, если число-ответ видно в датафрейме, его нужно не вывести вручную, а вытащить с помощью команд pandas).\n",
        "\n",
        "Использование циклов `for` и `while` запрещено в этом разделе. При его использовании можно получить не более половины балла за задачу."
      ]
    },
    {
      "cell_type": "code",
      "execution_count": 14,
      "id": "BhohtUlpv_6O",
      "metadata": {
        "colab": {
          "base_uri": "https://localhost:8080/",
          "height": 206
        },
        "id": "BhohtUlpv_6O",
        "outputId": "1ba71cac-8cf1-418f-86a8-45f0f71a7ce2"
      },
      "outputs": [
        {
          "data": {
            "text/html": [
              "<div>\n",
              "<style scoped>\n",
              "    .dataframe tbody tr th:only-of-type {\n",
              "        vertical-align: middle;\n",
              "    }\n",
              "\n",
              "    .dataframe tbody tr th {\n",
              "        vertical-align: top;\n",
              "    }\n",
              "\n",
              "    .dataframe thead th {\n",
              "        text-align: right;\n",
              "    }\n",
              "</style>\n",
              "<table border=\"1\" class=\"dataframe\">\n",
              "  <thead>\n",
              "    <tr style=\"text-align: right;\">\n",
              "      <th></th>\n",
              "      <th>Математика</th>\n",
              "      <th>Физика</th>\n",
              "      <th>Русский язык</th>\n",
              "    </tr>\n",
              "  </thead>\n",
              "  <tbody>\n",
              "    <tr>\n",
              "      <th>0</th>\n",
              "      <td>100</td>\n",
              "      <td>100</td>\n",
              "      <td>100</td>\n",
              "    </tr>\n",
              "    <tr>\n",
              "      <th>1</th>\n",
              "      <td>100</td>\n",
              "      <td>100</td>\n",
              "      <td>100</td>\n",
              "    </tr>\n",
              "    <tr>\n",
              "      <th>2</th>\n",
              "      <td>100</td>\n",
              "      <td>100</td>\n",
              "      <td>100</td>\n",
              "    </tr>\n",
              "    <tr>\n",
              "      <th>3</th>\n",
              "      <td>100</td>\n",
              "      <td>100</td>\n",
              "      <td>100</td>\n",
              "    </tr>\n",
              "    <tr>\n",
              "      <th>4</th>\n",
              "      <td>99</td>\n",
              "      <td>100</td>\n",
              "      <td>100</td>\n",
              "    </tr>\n",
              "  </tbody>\n",
              "</table>\n",
              "</div>"
            ],
            "text/plain": [
              "   Математика  Физика  Русский язык\n",
              "0         100     100           100\n",
              "1         100     100           100\n",
              "2         100     100           100\n",
              "3         100     100           100\n",
              "4          99     100           100"
            ]
          },
          "execution_count": 14,
          "metadata": {},
          "output_type": "execute_result"
        }
      ],
      "source": [
        "import pandas as pd\n",
        "\n",
        "use = pd.read_csv('data/use.csv')\n",
        "use.head(5)"
      ]
    },
    {
      "cell_type": "markdown",
      "id": "c017620d",
      "metadata": {
        "id": "c017620d"
      },
      "source": [
        "**Задача 1. (1 балл)** Сколько студентов в таблице?"
      ]
    },
    {
      "cell_type": "code",
      "execution_count": 15,
      "id": "48272aec",
      "metadata": {
        "colab": {
          "base_uri": "https://localhost:8080/"
        },
        "id": "48272aec",
        "outputId": "05aa15a6-5062-4fcc-f427-1a6c1bc7522e"
      },
      "outputs": [
        {
          "data": {
            "text/plain": [
              "905"
            ]
          },
          "execution_count": 15,
          "metadata": {},
          "output_type": "execute_result"
        }
      ],
      "source": [
        "use.shape[0]"
      ]
    },
    {
      "cell_type": "markdown",
      "id": "3a72ce75",
      "metadata": {
        "id": "3a72ce75"
      },
      "source": [
        "**Задача 2. (1 балл)** Какой средний балл поступающих по математике?"
      ]
    },
    {
      "cell_type": "code",
      "execution_count": 16,
      "id": "f3062f86",
      "metadata": {
        "colab": {
          "base_uri": "https://localhost:8080/"
        },
        "id": "f3062f86",
        "outputId": "9229ca63-c35f-4645-abf2-b816391dddbb"
      },
      "outputs": [
        {
          "data": {
            "text/plain": [
              "89.24088397790055"
            ]
          },
          "execution_count": 16,
          "metadata": {},
          "output_type": "execute_result"
        }
      ],
      "source": [
        "use['Математика'].mean()"
      ]
    },
    {
      "cell_type": "markdown",
      "id": "4c469d24",
      "metadata": {
        "id": "4c469d24"
      },
      "source": [
        "**Задача 3. (2 балла)** Каков средний балл по русскому среди тех, у кого по физике 100 баллов?"
      ]
    },
    {
      "cell_type": "code",
      "execution_count": 17,
      "id": "164b2778",
      "metadata": {
        "colab": {
          "base_uri": "https://localhost:8080/"
        },
        "id": "164b2778",
        "outputId": "b539cdef-1671-4fbd-cefe-563a9fa9c304"
      },
      "outputs": [
        {
          "data": {
            "text/plain": [
              "91.77372262773723"
            ]
          },
          "execution_count": 17,
          "metadata": {},
          "output_type": "execute_result"
        }
      ],
      "source": [
        "use[use['Физика'] == 100]['Русский язык'].mean()"
      ]
    },
    {
      "cell_type": "markdown",
      "id": "95f7799b",
      "metadata": {
        "id": "95f7799b"
      },
      "source": [
        "**Задача 4. (2 балла)** Отсортируйте студентов по убыванию балла по русскому языку. При одинаковых баллах - порядок любой."
      ]
    },
    {
      "cell_type": "code",
      "execution_count": 18,
      "id": "fea9665d",
      "metadata": {
        "colab": {
          "base_uri": "https://localhost:8080/",
          "height": 423
        },
        "id": "fea9665d",
        "outputId": "90fe6410-7c5b-4103-be80-fa7eaef65ee7"
      },
      "outputs": [
        {
          "data": {
            "text/html": [
              "<div>\n",
              "<style scoped>\n",
              "    .dataframe tbody tr th:only-of-type {\n",
              "        vertical-align: middle;\n",
              "    }\n",
              "\n",
              "    .dataframe tbody tr th {\n",
              "        vertical-align: top;\n",
              "    }\n",
              "\n",
              "    .dataframe thead th {\n",
              "        text-align: right;\n",
              "    }\n",
              "</style>\n",
              "<table border=\"1\" class=\"dataframe\">\n",
              "  <thead>\n",
              "    <tr style=\"text-align: right;\">\n",
              "      <th></th>\n",
              "      <th>Математика</th>\n",
              "      <th>Физика</th>\n",
              "      <th>Русский язык</th>\n",
              "    </tr>\n",
              "  </thead>\n",
              "  <tbody>\n",
              "    <tr>\n",
              "      <th>0</th>\n",
              "      <td>100</td>\n",
              "      <td>100</td>\n",
              "      <td>100</td>\n",
              "    </tr>\n",
              "    <tr>\n",
              "      <th>192</th>\n",
              "      <td>90</td>\n",
              "      <td>100</td>\n",
              "      <td>100</td>\n",
              "    </tr>\n",
              "    <tr>\n",
              "      <th>100</th>\n",
              "      <td>88</td>\n",
              "      <td>89</td>\n",
              "      <td>100</td>\n",
              "    </tr>\n",
              "    <tr>\n",
              "      <th>746</th>\n",
              "      <td>82</td>\n",
              "      <td>78</td>\n",
              "      <td>100</td>\n",
              "    </tr>\n",
              "    <tr>\n",
              "      <th>98</th>\n",
              "      <td>100</td>\n",
              "      <td>83</td>\n",
              "      <td>100</td>\n",
              "    </tr>\n",
              "    <tr>\n",
              "      <th>...</th>\n",
              "      <td>...</td>\n",
              "      <td>...</td>\n",
              "      <td>...</td>\n",
              "    </tr>\n",
              "    <tr>\n",
              "      <th>889</th>\n",
              "      <td>80</td>\n",
              "      <td>81</td>\n",
              "      <td>71</td>\n",
              "    </tr>\n",
              "    <tr>\n",
              "      <th>668</th>\n",
              "      <td>78</td>\n",
              "      <td>83</td>\n",
              "      <td>70</td>\n",
              "    </tr>\n",
              "    <tr>\n",
              "      <th>903</th>\n",
              "      <td>70</td>\n",
              "      <td>57</td>\n",
              "      <td>69</td>\n",
              "    </tr>\n",
              "    <tr>\n",
              "      <th>815</th>\n",
              "      <td>84</td>\n",
              "      <td>81</td>\n",
              "      <td>67</td>\n",
              "    </tr>\n",
              "    <tr>\n",
              "      <th>713</th>\n",
              "      <td>88</td>\n",
              "      <td>93</td>\n",
              "      <td>60</td>\n",
              "    </tr>\n",
              "  </tbody>\n",
              "</table>\n",
              "<p>905 rows × 3 columns</p>\n",
              "</div>"
            ],
            "text/plain": [
              "     Математика  Физика  Русский язык\n",
              "0           100     100           100\n",
              "192          90     100           100\n",
              "100          88      89           100\n",
              "746          82      78           100\n",
              "98          100      83           100\n",
              "..          ...     ...           ...\n",
              "889          80      81            71\n",
              "668          78      83            70\n",
              "903          70      57            69\n",
              "815          84      81            67\n",
              "713          88      93            60\n",
              "\n",
              "[905 rows x 3 columns]"
            ]
          },
          "execution_count": 18,
          "metadata": {},
          "output_type": "execute_result"
        }
      ],
      "source": [
        "use.sort_values(by=['Русский язык'], ascending=False)"
      ]
    },
    {
      "cell_type": "markdown",
      "id": "5e7d2e2d",
      "metadata": {
        "id": "5e7d2e2d"
      },
      "source": [
        "**Задача 5. (2 балла)** Сгруппируйте студентов по баллам по математике. Каждому уникальному баллу по математике сопоставьте максимальный по физике и минимальный по русскому языку."
      ]
    },
    {
      "cell_type": "code",
      "execution_count": 19,
      "id": "395f54af",
      "metadata": {
        "colab": {
          "base_uri": "https://localhost:8080/",
          "height": 739
        },
        "id": "395f54af",
        "outputId": "fb5452e1-95bc-4e65-f44c-4e0f32083ea0"
      },
      "outputs": [
        {
          "data": {
            "text/html": [
              "<div>\n",
              "<style scoped>\n",
              "    .dataframe tbody tr th:only-of-type {\n",
              "        vertical-align: middle;\n",
              "    }\n",
              "\n",
              "    .dataframe tbody tr th {\n",
              "        vertical-align: top;\n",
              "    }\n",
              "\n",
              "    .dataframe thead th {\n",
              "        text-align: right;\n",
              "    }\n",
              "</style>\n",
              "<table border=\"1\" class=\"dataframe\">\n",
              "  <thead>\n",
              "    <tr style=\"text-align: right;\">\n",
              "      <th></th>\n",
              "      <th>Физика</th>\n",
              "      <th>Русский язык</th>\n",
              "    </tr>\n",
              "    <tr>\n",
              "      <th>Математика</th>\n",
              "      <th></th>\n",
              "      <th></th>\n",
              "    </tr>\n",
              "  </thead>\n",
              "  <tbody>\n",
              "    <tr>\n",
              "      <th>62</th>\n",
              "      <td>87</td>\n",
              "      <td>76</td>\n",
              "    </tr>\n",
              "    <tr>\n",
              "      <th>68</th>\n",
              "      <td>85</td>\n",
              "      <td>80</td>\n",
              "    </tr>\n",
              "    <tr>\n",
              "      <th>70</th>\n",
              "      <td>80</td>\n",
              "      <td>69</td>\n",
              "    </tr>\n",
              "    <tr>\n",
              "      <th>72</th>\n",
              "      <td>100</td>\n",
              "      <td>78</td>\n",
              "    </tr>\n",
              "    <tr>\n",
              "      <th>74</th>\n",
              "      <td>95</td>\n",
              "      <td>72</td>\n",
              "    </tr>\n",
              "    <tr>\n",
              "      <th>76</th>\n",
              "      <td>99</td>\n",
              "      <td>78</td>\n",
              "    </tr>\n",
              "    <tr>\n",
              "      <th>78</th>\n",
              "      <td>100</td>\n",
              "      <td>70</td>\n",
              "    </tr>\n",
              "    <tr>\n",
              "      <th>80</th>\n",
              "      <td>100</td>\n",
              "      <td>71</td>\n",
              "    </tr>\n",
              "    <tr>\n",
              "      <th>82</th>\n",
              "      <td>100</td>\n",
              "      <td>73</td>\n",
              "    </tr>\n",
              "    <tr>\n",
              "      <th>84</th>\n",
              "      <td>100</td>\n",
              "      <td>67</td>\n",
              "    </tr>\n",
              "    <tr>\n",
              "      <th>86</th>\n",
              "      <td>100</td>\n",
              "      <td>73</td>\n",
              "    </tr>\n",
              "    <tr>\n",
              "      <th>88</th>\n",
              "      <td>100</td>\n",
              "      <td>60</td>\n",
              "    </tr>\n",
              "    <tr>\n",
              "      <th>90</th>\n",
              "      <td>100</td>\n",
              "      <td>78</td>\n",
              "    </tr>\n",
              "    <tr>\n",
              "      <th>92</th>\n",
              "      <td>100</td>\n",
              "      <td>72</td>\n",
              "    </tr>\n",
              "    <tr>\n",
              "      <th>93</th>\n",
              "      <td>95</td>\n",
              "      <td>87</td>\n",
              "    </tr>\n",
              "    <tr>\n",
              "      <th>94</th>\n",
              "      <td>100</td>\n",
              "      <td>73</td>\n",
              "    </tr>\n",
              "    <tr>\n",
              "      <th>95</th>\n",
              "      <td>98</td>\n",
              "      <td>76</td>\n",
              "    </tr>\n",
              "    <tr>\n",
              "      <th>96</th>\n",
              "      <td>100</td>\n",
              "      <td>72</td>\n",
              "    </tr>\n",
              "    <tr>\n",
              "      <th>98</th>\n",
              "      <td>100</td>\n",
              "      <td>78</td>\n",
              "    </tr>\n",
              "    <tr>\n",
              "      <th>99</th>\n",
              "      <td>100</td>\n",
              "      <td>72</td>\n",
              "    </tr>\n",
              "    <tr>\n",
              "      <th>100</th>\n",
              "      <td>100</td>\n",
              "      <td>73</td>\n",
              "    </tr>\n",
              "  </tbody>\n",
              "</table>\n",
              "</div>"
            ],
            "text/plain": [
              "            Физика  Русский язык\n",
              "Математика                      \n",
              "62              87            76\n",
              "68              85            80\n",
              "70              80            69\n",
              "72             100            78\n",
              "74              95            72\n",
              "76              99            78\n",
              "78             100            70\n",
              "80             100            71\n",
              "82             100            73\n",
              "84             100            67\n",
              "86             100            73\n",
              "88             100            60\n",
              "90             100            78\n",
              "92             100            72\n",
              "93              95            87\n",
              "94             100            73\n",
              "95              98            76\n",
              "96             100            72\n",
              "98             100            78\n",
              "99             100            72\n",
              "100            100            73"
            ]
          },
          "execution_count": 19,
          "metadata": {},
          "output_type": "execute_result"
        }
      ],
      "source": [
        "use.groupby([\"Математика\"]).agg({\"Физика\": \"max\", \"Русский язык\": \"min\"})"
      ]
    },
    {
      "cell_type": "markdown",
      "id": "8c892e4b",
      "metadata": {
        "id": "8c892e4b"
      },
      "source": [
        "**Задача 6. (2 балла)** Сгруппируйте студентов по баллам по математике. Каждому уникальному баллу по математике сопоставьте количество студентов, набравших этот балл. **(+1 балл)** Дайте более адекватное название столбцу с количеством студентов."
      ]
    },
    {
      "cell_type": "code",
      "execution_count": 20,
      "id": "df34a2fa",
      "metadata": {
        "colab": {
          "base_uri": "https://localhost:8080/",
          "height": 739
        },
        "id": "df34a2fa",
        "outputId": "da9ecd4f-00a1-4952-98d3-6c6ea7ed1186"
      },
      "outputs": [
        {
          "data": {
            "text/html": [
              "<div>\n",
              "<style scoped>\n",
              "    .dataframe tbody tr th:only-of-type {\n",
              "        vertical-align: middle;\n",
              "    }\n",
              "\n",
              "    .dataframe tbody tr th {\n",
              "        vertical-align: top;\n",
              "    }\n",
              "\n",
              "    .dataframe thead th {\n",
              "        text-align: right;\n",
              "    }\n",
              "</style>\n",
              "<table border=\"1\" class=\"dataframe\">\n",
              "  <thead>\n",
              "    <tr style=\"text-align: right;\">\n",
              "      <th></th>\n",
              "      <th>Кол-во студентов</th>\n",
              "    </tr>\n",
              "    <tr>\n",
              "      <th>Математика</th>\n",
              "      <th></th>\n",
              "    </tr>\n",
              "  </thead>\n",
              "  <tbody>\n",
              "    <tr>\n",
              "      <th>62</th>\n",
              "      <td>5</td>\n",
              "    </tr>\n",
              "    <tr>\n",
              "      <th>68</th>\n",
              "      <td>4</td>\n",
              "    </tr>\n",
              "    <tr>\n",
              "      <th>70</th>\n",
              "      <td>6</td>\n",
              "    </tr>\n",
              "    <tr>\n",
              "      <th>72</th>\n",
              "      <td>8</td>\n",
              "    </tr>\n",
              "    <tr>\n",
              "      <th>74</th>\n",
              "      <td>13</td>\n",
              "    </tr>\n",
              "    <tr>\n",
              "      <th>76</th>\n",
              "      <td>16</td>\n",
              "    </tr>\n",
              "    <tr>\n",
              "      <th>78</th>\n",
              "      <td>34</td>\n",
              "    </tr>\n",
              "    <tr>\n",
              "      <th>80</th>\n",
              "      <td>41</td>\n",
              "    </tr>\n",
              "    <tr>\n",
              "      <th>82</th>\n",
              "      <td>57</td>\n",
              "    </tr>\n",
              "    <tr>\n",
              "      <th>84</th>\n",
              "      <td>64</td>\n",
              "    </tr>\n",
              "    <tr>\n",
              "      <th>86</th>\n",
              "      <td>90</td>\n",
              "    </tr>\n",
              "    <tr>\n",
              "      <th>88</th>\n",
              "      <td>84</td>\n",
              "    </tr>\n",
              "    <tr>\n",
              "      <th>90</th>\n",
              "      <td>83</td>\n",
              "    </tr>\n",
              "    <tr>\n",
              "      <th>92</th>\n",
              "      <td>78</td>\n",
              "    </tr>\n",
              "    <tr>\n",
              "      <th>93</th>\n",
              "      <td>1</td>\n",
              "    </tr>\n",
              "    <tr>\n",
              "      <th>94</th>\n",
              "      <td>84</td>\n",
              "    </tr>\n",
              "    <tr>\n",
              "      <th>95</th>\n",
              "      <td>4</td>\n",
              "    </tr>\n",
              "    <tr>\n",
              "      <th>96</th>\n",
              "      <td>67</td>\n",
              "    </tr>\n",
              "    <tr>\n",
              "      <th>98</th>\n",
              "      <td>56</td>\n",
              "    </tr>\n",
              "    <tr>\n",
              "      <th>99</th>\n",
              "      <td>42</td>\n",
              "    </tr>\n",
              "    <tr>\n",
              "      <th>100</th>\n",
              "      <td>68</td>\n",
              "    </tr>\n",
              "  </tbody>\n",
              "</table>\n",
              "</div>"
            ],
            "text/plain": [
              "            Кол-во студентов\n",
              "Математика                  \n",
              "62                         5\n",
              "68                         4\n",
              "70                         6\n",
              "72                         8\n",
              "74                        13\n",
              "76                        16\n",
              "78                        34\n",
              "80                        41\n",
              "82                        57\n",
              "84                        64\n",
              "86                        90\n",
              "88                        84\n",
              "90                        83\n",
              "92                        78\n",
              "93                         1\n",
              "94                        84\n",
              "95                         4\n",
              "96                        67\n",
              "98                        56\n",
              "99                        42\n",
              "100                       68"
            ]
          },
          "execution_count": 20,
          "metadata": {},
          "output_type": "execute_result"
        }
      ],
      "source": [
        "use.groupby(['Математика']).count().drop('Русский язык', axis=1).rename(columns={'Физика': 'Кол-во студентов'})"
      ]
    },
    {
      "cell_type": "markdown",
      "id": "457d8c22",
      "metadata": {
        "id": "457d8c22"
      },
      "source": [
        "**Задача 7. (2 балла)** У скольких студентов совпадают баллы по 3 предетам?"
      ]
    },
    {
      "cell_type": "code",
      "execution_count": 21,
      "id": "ppphK44n8Xdh",
      "metadata": {
        "colab": {
          "base_uri": "https://localhost:8080/"
        },
        "id": "ppphK44n8Xdh",
        "outputId": "be3beae2-614b-4569-f17a-6a90b394c437"
      },
      "outputs": [
        {
          "data": {
            "text/plain": [
              "6"
            ]
          },
          "execution_count": 21,
          "metadata": {},
          "output_type": "execute_result"
        }
      ],
      "source": [
        "use[(use['Математика'] == use['Физика']) & (use['Математика'] == use['Русский язык'])].shape[0]"
      ]
    },
    {
      "cell_type": "markdown",
      "id": "a77e3c5e",
      "metadata": {
        "id": "a77e3c5e"
      },
      "source": [
        "**Задача 8. (3 балла)** Найти средний балл по физике среди последних 100 студентов."
      ]
    },
    {
      "cell_type": "code",
      "execution_count": 22,
      "id": "ee0e2930",
      "metadata": {
        "colab": {
          "base_uri": "https://localhost:8080/"
        },
        "id": "ee0e2930",
        "outputId": "8506339c-1373-43ba-f1d6-907ce7493e94"
      },
      "outputs": [
        {
          "data": {
            "text/plain": [
              "74.6"
            ]
          },
          "execution_count": 22,
          "metadata": {},
          "output_type": "execute_result"
        }
      ],
      "source": [
        "use['Физика'].tail(100).mean()"
      ]
    },
    {
      "cell_type": "markdown",
      "id": "b51a5455",
      "metadata": {
        "id": "b51a5455"
      },
      "source": [
        "**Задача 9. (3 балла)** Создайте четвертый столбец с суммой баллов"
      ]
    },
    {
      "cell_type": "code",
      "execution_count": 23,
      "id": "5a25cd12",
      "metadata": {
        "colab": {
          "base_uri": "https://localhost:8080/",
          "height": 423
        },
        "id": "5a25cd12",
        "outputId": "cf2d9f7c-074a-406a-acc2-1022a1953c36"
      },
      "outputs": [
        {
          "data": {
            "text/html": [
              "<div>\n",
              "<style scoped>\n",
              "    .dataframe tbody tr th:only-of-type {\n",
              "        vertical-align: middle;\n",
              "    }\n",
              "\n",
              "    .dataframe tbody tr th {\n",
              "        vertical-align: top;\n",
              "    }\n",
              "\n",
              "    .dataframe thead th {\n",
              "        text-align: right;\n",
              "    }\n",
              "</style>\n",
              "<table border=\"1\" class=\"dataframe\">\n",
              "  <thead>\n",
              "    <tr style=\"text-align: right;\">\n",
              "      <th></th>\n",
              "      <th>Математика</th>\n",
              "      <th>Физика</th>\n",
              "      <th>Русский язык</th>\n",
              "      <th>Сумма</th>\n",
              "    </tr>\n",
              "  </thead>\n",
              "  <tbody>\n",
              "    <tr>\n",
              "      <th>0</th>\n",
              "      <td>100</td>\n",
              "      <td>100</td>\n",
              "      <td>100</td>\n",
              "      <td>300</td>\n",
              "    </tr>\n",
              "    <tr>\n",
              "      <th>1</th>\n",
              "      <td>100</td>\n",
              "      <td>100</td>\n",
              "      <td>100</td>\n",
              "      <td>300</td>\n",
              "    </tr>\n",
              "    <tr>\n",
              "      <th>2</th>\n",
              "      <td>100</td>\n",
              "      <td>100</td>\n",
              "      <td>100</td>\n",
              "      <td>300</td>\n",
              "    </tr>\n",
              "    <tr>\n",
              "      <th>3</th>\n",
              "      <td>100</td>\n",
              "      <td>100</td>\n",
              "      <td>100</td>\n",
              "      <td>300</td>\n",
              "    </tr>\n",
              "    <tr>\n",
              "      <th>4</th>\n",
              "      <td>99</td>\n",
              "      <td>100</td>\n",
              "      <td>100</td>\n",
              "      <td>299</td>\n",
              "    </tr>\n",
              "    <tr>\n",
              "      <th>...</th>\n",
              "      <td>...</td>\n",
              "      <td>...</td>\n",
              "      <td>...</td>\n",
              "      <td>...</td>\n",
              "    </tr>\n",
              "    <tr>\n",
              "      <th>900</th>\n",
              "      <td>72</td>\n",
              "      <td>64</td>\n",
              "      <td>78</td>\n",
              "      <td>214</td>\n",
              "    </tr>\n",
              "    <tr>\n",
              "      <th>901</th>\n",
              "      <td>78</td>\n",
              "      <td>57</td>\n",
              "      <td>80</td>\n",
              "      <td>215</td>\n",
              "    </tr>\n",
              "    <tr>\n",
              "      <th>902</th>\n",
              "      <td>70</td>\n",
              "      <td>60</td>\n",
              "      <td>80</td>\n",
              "      <td>210</td>\n",
              "    </tr>\n",
              "    <tr>\n",
              "      <th>903</th>\n",
              "      <td>70</td>\n",
              "      <td>57</td>\n",
              "      <td>69</td>\n",
              "      <td>196</td>\n",
              "    </tr>\n",
              "    <tr>\n",
              "      <th>904</th>\n",
              "      <td>62</td>\n",
              "      <td>61</td>\n",
              "      <td>76</td>\n",
              "      <td>199</td>\n",
              "    </tr>\n",
              "  </tbody>\n",
              "</table>\n",
              "<p>905 rows × 4 columns</p>\n",
              "</div>"
            ],
            "text/plain": [
              "     Математика  Физика  Русский язык  Сумма\n",
              "0           100     100           100    300\n",
              "1           100     100           100    300\n",
              "2           100     100           100    300\n",
              "3           100     100           100    300\n",
              "4            99     100           100    299\n",
              "..          ...     ...           ...    ...\n",
              "900          72      64            78    214\n",
              "901          78      57            80    215\n",
              "902          70      60            80    210\n",
              "903          70      57            69    196\n",
              "904          62      61            76    199\n",
              "\n",
              "[905 rows x 4 columns]"
            ]
          },
          "execution_count": 23,
          "metadata": {},
          "output_type": "execute_result"
        }
      ],
      "source": [
        "use['Сумма'] = use['Математика'] + use['Русский язык'] + use['Физика']\n",
        "use"
      ]
    },
    {
      "cell_type": "markdown",
      "id": "3a27a5f0",
      "metadata": {
        "id": "3a27a5f0"
      },
      "source": [
        "**Задача 10. (4 балла)** Найдите наибольшую сумму баллов, которую набрал только один абитуриент."
      ]
    },
    {
      "cell_type": "code",
      "execution_count": 24,
      "id": "08da4271",
      "metadata": {
        "colab": {
          "base_uri": "https://localhost:8080/"
        },
        "id": "08da4271",
        "outputId": "cc2d7095-7b6b-4340-f164-fb2395e85ed3"
      },
      "outputs": [
        {
          "data": {
            "text/plain": [
              "293"
            ]
          },
          "execution_count": 24,
          "metadata": {},
          "output_type": "execute_result"
        }
      ],
      "source": [
        "summ = use.groupby('Сумма').count().drop(['Физика', 'Русский язык'], axis=1).rename(columns={'Математика': 'Количество'}).reset_index()\n",
        "summ[summ['Количество'] == 1]['Сумма'].max()"
      ]
    }
  ],
  "metadata": {
    "colab": {
      "provenance": []
    },
    "kernelspec": {
      "display_name": "Python 3 (ipykernel)",
      "language": "python",
      "name": "python3"
    },
    "language_info": {
      "codemirror_mode": {
        "name": "ipython",
        "version": 3
      },
      "file_extension": ".py",
      "mimetype": "text/x-python",
      "name": "python",
      "nbconvert_exporter": "python",
      "pygments_lexer": "ipython3",
      "version": "3.8.7"
    }
  },
  "nbformat": 4,
  "nbformat_minor": 5
}
